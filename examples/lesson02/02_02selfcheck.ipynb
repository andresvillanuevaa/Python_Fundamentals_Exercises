{
 "cells": [
  {
   "cell_type": "code",
   "execution_count": 4,
   "id": "4633eee0-fc93-43fa-b465-050980d13bef",
   "metadata": {
    "execution": {
     "iopub.execute_input": "2024-07-29T13:55:47.006769Z",
     "iopub.status.busy": "2024-07-29T13:55:47.006520Z",
     "iopub.status.idle": "2024-07-29T13:55:47.010729Z",
     "shell.execute_reply": "2024-07-29T13:55:47.010289Z",
     "shell.execute_reply.started": "2024-07-29T13:55:47.006751Z"
    }
   },
   "outputs": [
    {
     "data": {
      "text/plain": [
       "117"
      ]
     },
     "execution_count": 4,
     "metadata": {},
     "output_type": "execute_result"
    }
   ],
   "source": [
    "45 + 72"
   ]
  },
  {
   "cell_type": "code",
   "execution_count": 5,
   "id": "94bf6a60-7a8a-4723-9e63-710b36255a82",
   "metadata": {
    "execution": {
     "iopub.execute_input": "2024-07-29T13:57:07.105177Z",
     "iopub.status.busy": "2024-07-29T13:57:07.104907Z",
     "iopub.status.idle": "2024-07-29T13:57:07.108574Z",
     "shell.execute_reply": "2024-07-29T13:57:07.108040Z",
     "shell.execute_reply.started": "2024-07-29T13:57:07.105157Z"
    }
   },
   "outputs": [],
   "source": [
    "x = 7"
   ]
  },
  {
   "cell_type": "code",
   "execution_count": 6,
   "id": "5394eca3-f333-4486-89a4-e7b969801fff",
   "metadata": {
    "execution": {
     "iopub.execute_input": "2024-07-29T13:58:28.852233Z",
     "iopub.status.busy": "2024-07-29T13:58:28.851814Z",
     "iopub.status.idle": "2024-07-29T13:58:28.855101Z",
     "shell.execute_reply": "2024-07-29T13:58:28.854650Z",
     "shell.execute_reply.started": "2024-07-29T13:58:28.852215Z"
    }
   },
   "outputs": [],
   "source": [
    "y = 3"
   ]
  },
  {
   "cell_type": "code",
   "execution_count": 7,
   "id": "a09a1e52-9f5c-495f-8ce8-17f7451b079c",
   "metadata": {
    "execution": {
     "iopub.execute_input": "2024-07-29T13:58:53.258260Z",
     "iopub.status.busy": "2024-07-29T13:58:53.258016Z",
     "iopub.status.idle": "2024-07-29T13:58:53.262126Z",
     "shell.execute_reply": "2024-07-29T13:58:53.261694Z",
     "shell.execute_reply.started": "2024-07-29T13:58:53.258243Z"
    }
   },
   "outputs": [
    {
     "data": {
      "text/plain": [
       "10"
      ]
     },
     "execution_count": 7,
     "metadata": {},
     "output_type": "execute_result"
    }
   ],
   "source": [
    "x + y"
   ]
  },
  {
   "cell_type": "code",
   "execution_count": 8,
   "id": "e50550c9-6db7-4502-8fc5-51c39143dae6",
   "metadata": {
    "execution": {
     "iopub.execute_input": "2024-07-29T14:01:22.003401Z",
     "iopub.status.busy": "2024-07-29T14:01:22.003149Z",
     "iopub.status.idle": "2024-07-29T14:01:22.006436Z",
     "shell.execute_reply": "2024-07-29T14:01:22.005978Z",
     "shell.execute_reply.started": "2024-07-29T14:01:22.003383Z"
    }
   },
   "outputs": [],
   "source": [
    "total = x + y"
   ]
  },
  {
   "cell_type": "code",
   "execution_count": 9,
   "id": "7d72a0fe-e459-4d43-a640-e3fcb5d02e72",
   "metadata": {
    "execution": {
     "iopub.execute_input": "2024-07-29T14:01:36.221588Z",
     "iopub.status.busy": "2024-07-29T14:01:36.220991Z",
     "iopub.status.idle": "2024-07-29T14:01:36.224818Z",
     "shell.execute_reply": "2024-07-29T14:01:36.224443Z",
     "shell.execute_reply.started": "2024-07-29T14:01:36.221568Z"
    }
   },
   "outputs": [
    {
     "data": {
      "text/plain": [
       "10"
      ]
     },
     "execution_count": 9,
     "metadata": {},
     "output_type": "execute_result"
    }
   ],
   "source": [
    "total"
   ]
  },
  {
   "cell_type": "code",
   "execution_count": 10,
   "id": "3d8cb0cc-4b2b-478d-83bb-f3d0710859f7",
   "metadata": {
    "execution": {
     "iopub.execute_input": "2024-07-29T14:04:40.231931Z",
     "iopub.status.busy": "2024-07-29T14:04:40.231557Z",
     "iopub.status.idle": "2024-07-29T14:04:40.236018Z",
     "shell.execute_reply": "2024-07-29T14:04:40.235563Z",
     "shell.execute_reply.started": "2024-07-29T14:04:40.231912Z"
    }
   },
   "outputs": [
    {
     "data": {
      "text/plain": [
       "int"
      ]
     },
     "execution_count": 10,
     "metadata": {},
     "output_type": "execute_result"
    }
   ],
   "source": [
    "type(x)"
   ]
  },
  {
   "cell_type": "code",
   "execution_count": 11,
   "id": "4760d5c7-97c4-46dc-954a-b06ba1d38d61",
   "metadata": {
    "execution": {
     "iopub.execute_input": "2024-07-29T14:04:57.797156Z",
     "iopub.status.busy": "2024-07-29T14:04:57.796401Z",
     "iopub.status.idle": "2024-07-29T14:04:57.800231Z",
     "shell.execute_reply": "2024-07-29T14:04:57.799813Z",
     "shell.execute_reply.started": "2024-07-29T14:04:57.797137Z"
    }
   },
   "outputs": [
    {
     "data": {
      "text/plain": [
       "float"
      ]
     },
     "execution_count": 11,
     "metadata": {},
     "output_type": "execute_result"
    }
   ],
   "source": [
    "type(12.7)"
   ]
  },
  {
   "cell_type": "code",
   "execution_count": 14,
   "id": "1df4cf0a-69bf-46ce-bba0-aad7e4c6951b",
   "metadata": {
    "execution": {
     "iopub.execute_input": "2024-07-29T14:48:34.328631Z",
     "iopub.status.busy": "2024-07-29T14:48:34.328234Z",
     "iopub.status.idle": "2024-07-29T14:48:34.331554Z",
     "shell.execute_reply": "2024-07-29T14:48:34.331158Z",
     "shell.execute_reply.started": "2024-07-29T14:48:34.328602Z"
    }
   },
   "outputs": [],
   "source": [
    "total = 10.7 + 12.2 + 0.2"
   ]
  },
  {
   "cell_type": "code",
   "execution_count": 15,
   "id": "73d3e40b-2a53-47d5-b3e7-978141a4cc1b",
   "metadata": {
    "execution": {
     "iopub.execute_input": "2024-07-29T14:48:37.062040Z",
     "iopub.status.busy": "2024-07-29T14:48:37.061781Z",
     "iopub.status.idle": "2024-07-29T14:48:37.065728Z",
     "shell.execute_reply": "2024-07-29T14:48:37.065285Z",
     "shell.execute_reply.started": "2024-07-29T14:48:37.062023Z"
    }
   },
   "outputs": [
    {
     "data": {
      "text/plain": [
       "23.099999999999998"
      ]
     },
     "execution_count": 15,
     "metadata": {},
     "output_type": "execute_result"
    }
   ],
   "source": [
    "total"
   ]
  },
  {
   "cell_type": "code",
   "execution_count": null,
   "id": "1136db82-9a78-4477-a3ec-b857894a24a1",
   "metadata": {},
   "outputs": [],
   "source": []
  }
 ],
 "metadata": {
  "kernelspec": {
   "display_name": "Python 3 (ipykernel)",
   "language": "python",
   "name": "python3"
  },
  "language_info": {
   "codemirror_mode": {
    "name": "ipython",
    "version": 3
   },
   "file_extension": ".py",
   "mimetype": "text/x-python",
   "name": "python",
   "nbconvert_exporter": "python",
   "pygments_lexer": "ipython3",
   "version": "3.9.17"
  }
 },
 "nbformat": 4,
 "nbformat_minor": 5
}
